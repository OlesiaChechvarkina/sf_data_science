{
 "cells": [
  {
   "cell_type": "code",
   "execution_count": 15,
   "metadata": {},
   "outputs": [
    {
     "name": "stdout",
     "output_type": "stream",
     "text": [
      "      Income  Expenses\n",
      "2017     612       136\n",
      "2018     516       163\n",
      "2019     329       250\n",
      "2020     158       361\n",
      "None\n"
     ]
    }
   ],
   "source": [
    "# Введите свое решение ниже\n",
    "\n",
    "import pandas as pd\n",
    "def create_companyDF(income, expenses, years):\n",
    "    df = pd.DataFrame({'Income': income, 'Expenses': expenses}, index = years)\n",
    "    return df\n",
    "def get_profit(df, year):\n",
    "    if year in df.index:\n",
    "        profit = df.loc[year, 'Income'] - df.loc[year, 'Expenses']\n",
    "    else:\n",
    "        profit=None\n",
    "    return profit\n",
    "\n",
    "#income = [612, 516, 329, 158]\n",
    "#expenses = [136, 163, 250, 361]\n",
    "#years = [2017, 2018, 2019, 2020]\n",
    "\n",
    "#year = 2018\n",
    "#df = create_companyDF([612, 516, 329, 158], [136,163,250,361], [2017,2018,2019,2020])\n",
    "\n",
    "year = 2013\n",
    "df = create_companyDF([612, 516, 329, 158], [136,163,250,361], [2017,2018,2019,2020])\n",
    "\n",
    "print (create_companyDF(income, expenses, years))\n",
    "print (get_profit(df, year))"
   ]
  }
 ],
 "metadata": {
  "kernelspec": {
   "display_name": "Python 3",
   "language": "python",
   "name": "python3"
  },
  "language_info": {
   "codemirror_mode": {
    "name": "ipython",
    "version": 3
   },
   "file_extension": ".py",
   "mimetype": "text/x-python",
   "name": "python",
   "nbconvert_exporter": "python",
   "pygments_lexer": "ipython3",
   "version": "3.9.10"
  }
 },
 "nbformat": 4,
 "nbformat_minor": 2
}
